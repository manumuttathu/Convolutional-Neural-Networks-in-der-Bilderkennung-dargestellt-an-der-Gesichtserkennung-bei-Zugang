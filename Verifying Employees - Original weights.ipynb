{
 "cells": [
  {
   "cell_type": "markdown",
   "metadata": {},
   "source": [
    "## <center>SCNN auf Basis von VGG-16 </center>"
   ]
  },
  {
   "cell_type": "markdown",
   "metadata": {},
   "source": [
    "Import der notwendigen Funktionen aus keras, um die CNN Struktur aufbauen zu können\n",
    "Import der matplotlib, um Graphen darzustellen\n",
    "Import von numpy zur Tätigung von Berechnungen etc.\n",
    "\n"
   ]
  },
  {
   "cell_type": "code",
   "execution_count": 1,
   "metadata": {},
   "outputs": [
    {
     "name": "stderr",
     "output_type": "stream",
     "text": [
      "Using TensorFlow backend.\n"
     ]
    }
   ],
   "source": [
    "from keras.models import Sequential, Model\n",
    "from keras.layers import Input, Dense, Flatten, Dropout, Activation, Lambda, Permute, Reshape, Convolution2D, ZeroPadding2D, MaxPooling2D\n",
    "from keras.preprocessing import image\n",
    "from keras.preprocessing.image import load_img, save_img, img_to_array\n",
    "from keras.applications.imagenet_utils import preprocess_input\n",
    "import matplotlib.pyplot as plt\n",
    "import matplotlib.image as mpimg\n",
    "from PIL import Image\n",
    "import numpy as np\n",
    "import math\n",
    "import copy\n",
    "import os"
   ]
  },
  {
   "cell_type": "markdown",
   "metadata": {},
   "source": [
    "Das VGG-16 Architektur wird aufgestellt und die einzelnen Schichten werden hinzugefügt (vgl. Serengil, S. I., Deep Face Recognition with Keras, https://sefiks.com/2018/08/06/deep-face-recognition-with-keras/, (17.3.2019))."
   ]
  },
  {
   "cell_type": "code",
   "execution_count": 2,
   "metadata": {},
   "outputs": [],
   "source": [
    "VGG_16 = Sequential()\n",
    "VGG_16.add(ZeroPadding2D((1,1),input_shape=(224,224, 3)))\n",
    "VGG_16.add(Convolution2D(64, (3, 3), activation='relu'))\n",
    "VGG_16.add(ZeroPadding2D((1,1)))\n",
    "VGG_16.add(Convolution2D(64, (3, 3), activation='relu'))\n",
    "VGG_16.add(MaxPooling2D((2,2), strides=(2,2)))\n",
    " \n",
    "VGG_16.add(ZeroPadding2D((1,1)))\n",
    "VGG_16.add(Convolution2D(128, (3, 3), activation='relu'))\n",
    "VGG_16.add(ZeroPadding2D((1,1)))\n",
    "VGG_16.add(Convolution2D(128, (3, 3), activation='relu'))\n",
    "VGG_16.add(MaxPooling2D((2,2), strides=(2,2)))\n",
    " \n",
    "VGG_16.add(ZeroPadding2D((1,1)))\n",
    "VGG_16.add(Convolution2D(256, (3, 3), activation='relu'))\n",
    "VGG_16.add(ZeroPadding2D((1,1)))\n",
    "VGG_16.add(Convolution2D(256, (3, 3), activation='relu'))\n",
    "VGG_16.add(ZeroPadding2D((1,1)))\n",
    "VGG_16.add(Convolution2D(256, (3, 3), activation='relu'))\n",
    "VGG_16.add(MaxPooling2D((2,2), strides=(2,2)))\n",
    " \n",
    "VGG_16.add(ZeroPadding2D((1,1)))\n",
    "VGG_16.add(Convolution2D(512, (3, 3), activation='relu'))\n",
    "VGG_16.add(ZeroPadding2D((1,1)))\n",
    "VGG_16.add(Convolution2D(512, (3, 3), activation='relu'))\n",
    "VGG_16.add(ZeroPadding2D((1,1)))\n",
    "VGG_16.add(Convolution2D(512, (3, 3), activation='relu'))\n",
    "VGG_16.add(MaxPooling2D((2,2), strides=(2,2)))\n",
    " \n",
    "VGG_16.add(ZeroPadding2D((1,1)))\n",
    "VGG_16.add(Convolution2D(512, (3, 3), activation='relu'))\n",
    "VGG_16.add(ZeroPadding2D((1,1)))\n",
    "VGG_16.add(Convolution2D(512, (3, 3), activation='relu'))\n",
    "VGG_16.add(ZeroPadding2D((1,1)))\n",
    "VGG_16.add(Convolution2D(512, (3, 3), activation='relu'))\n",
    "VGG_16.add(MaxPooling2D((2,2), strides=(2,2)))\n",
    " \n",
    "VGG_16.add(Convolution2D(4096, (7, 7), activation='relu'))\n",
    "VGG_16.add(Dropout(0.5))\n",
    "VGG_16.add(Convolution2D(4096, (1, 1), activation='relu'))\n",
    "VGG_16.add(Dropout(0.5))\n",
    "VGG_16.add(Convolution2D(2622, (1, 1)))\n",
    "VGG_16.add(Flatten())\n",
    "VGG_16.add(Activation('softmax'))"
   ]
  },
  {
   "cell_type": "markdown",
   "metadata": {},
   "source": [
    "Vortrainierte Gewichte werden in das Netz geladen (https://drive.google.com/file/d/1CPSeum3HpopfomUEK1gybeuIVoeJT_Eo/view)."
   ]
  },
  {
   "cell_type": "code",
   "execution_count": 3,
   "metadata": {},
   "outputs": [],
   "source": [
    "VGG_16.load_weights('C:/weights/vgg_face_weights.h5')"
   ]
  },
  {
   "cell_type": "markdown",
   "metadata": {},
   "source": [
    "Die VGG-Gesichtsdeskriptoren werden extrahiert, um die Bilder aus der Datenbank (Quelldarstellung) und der den Zugriff auf die Institution anfragenden Person (Zieldarstellung) darzustellen. Hierbei wurde die Klassifikationsschicht nicht berücksichtigt (Softmax)."
   ]
  },
  {
   "cell_type": "code",
   "execution_count": 4,
   "metadata": {},
   "outputs": [],
   "source": [
    "vgg_face_descriptor = Model(inputs=VGG_16.layers[0].input\n",
    ", outputs=VGG_16.layers[-2].output)"
   ]
  },
  {
   "cell_type": "markdown",
   "metadata": {},
   "source": [
    "Die verschiedenen Parameter für die Vorverarbeitung des Zielbildes werden definiert."
   ]
  },
  {
   "cell_type": "code",
   "execution_count": 5,
   "metadata": {},
   "outputs": [],
   "source": [
    "def preprocess_image(image_path):\n",
    "    img = load_img(image_path, target_size=(224, 224))\n",
    "    img = img_to_array(img)\n",
    "    img = np.expand_dims(img, axis=0)\n",
    "    img = preprocess_input(img)\n",
    "    return img"
   ]
  },
  {
   "cell_type": "markdown",
   "metadata": {},
   "source": [
    "Die Kosinus Distanz und die Euklidische Distanz zwischen zwei Bildern werden definiert."
   ]
  },
  {
   "cell_type": "code",
   "execution_count": 6,
   "metadata": {},
   "outputs": [],
   "source": [
    "def CosineSimilarity(Bild_1, Bild_2):\n",
    "    a = np.matmul(np.transpose(Bild_1), Bild_2)\n",
    "    b = np.sum(np.multiply(Bild_1, Bild_1))\n",
    "    c = np.sum(np.multiply(Bild_2, Bild_2))\n",
    "    return 1 - (a / (np.sqrt(b) * np.sqrt(c)))\n",
    " \n",
    "def EuclideanDistance(Bild_1, Bild_2):\n",
    "    euclidean_distance = Bild_1 - Bild_2\n",
    "    euclidean_distance = np.sum(np.multiply(euclidean_distance, euclidean_distance))\n",
    "    euclidean_distance = np.sqrt(euclidean_distance)\n",
    "    return euclidean_distance"
   ]
  },
  {
   "cell_type": "markdown",
   "metadata": {},
   "source": [
    "In der Endphase werden das Bildverzeichnis der Datenbank der Mitarbeiter (mit jeweils nur einem Bild) und das zugeschnittene Bild der Person am Zugangspunkt in das System eingegeben.\n",
    "Die endgültige Ausgabe gibt die Nachricht aus, ob die Person Zugriff hat (wenn festgestellt wird, dass sie dieselbe Person ist wie in der Datenbank) oder nicht. Es ist zu beachten, dass das VGG-Gesicht im Wesentlichen mit quadratisch zentrierten Bildern mit Frontalgesichtern trainiert wurd. Um das beste Ergebnisse zu erzielen, ist es erforderlich, dass das Foto auch quadratisch, zentriert und frontal aufzunehmen."
   ]
  },
  {
   "cell_type": "code",
   "execution_count": 8,
   "metadata": {
    "scrolled": false
   },
   "outputs": [
    {
     "name": "stdout",
     "output_type": "stream",
     "text": [
      "[119.78868866]\n",
      "[0.522941529750824]\n",
      "position:0\n",
      "[148.93283081 119.78868866]\n",
      "[0.522941529750824]\n",
      "position:0\n",
      "[118.34849548 148.93283081 119.78868866]\n",
      "[0.5220735371112823]\n",
      "position:4\n",
      "[109.13111115 118.34849548 148.93283081 119.78868866]\n",
      "[0.42076539993286133]\n",
      "position:6\n",
      "[139.53996277 109.13111115 118.34849548 148.93283081 119.78868866]\n",
      "[0.42076539993286133]\n",
      "position:6\n",
      "[107.36390686 139.53996277 109.13111115 118.34849548 148.93283081\n",
      " 119.78868866]\n",
      "[0.42076539993286133]\n",
      "position:6\n",
      "[150.47354126 107.36390686 139.53996277 109.13111115 118.34849548\n",
      " 148.93283081 119.78868866]\n",
      "[0.42076539993286133]\n",
      "position:6\n",
      "[134.41036987 150.47354126 107.36390686 139.53996277 109.13111115\n",
      " 118.34849548 148.93283081 119.78868866]\n",
      "[0.42076539993286133]\n",
      "position:6\n",
      "[140.91734314 134.41036987 150.47354126 107.36390686 139.53996277\n",
      " 109.13111115 118.34849548 148.93283081 119.78868866]\n",
      "[0.42076539993286133]\n",
      "position:6\n",
      "[146.40579224 140.91734314 134.41036987 150.47354126 107.36390686\n",
      " 139.53996277 109.13111115 118.34849548 148.93283081 119.78868866]\n",
      "[0.42076539993286133]\n",
      "position:6\n",
      "[114.10016632 146.40579224 140.91734314 134.41036987 150.47354126\n",
      " 107.36390686 139.53996277 109.13111115 118.34849548 148.93283081\n",
      " 119.78868866]\n",
      "[0.42076539993286133]\n",
      "position:6\n",
      "[103.60414124 114.10016632 146.40579224 140.91734314 134.41036987\n",
      " 150.47354126 107.36390686 139.53996277 109.13111115 118.34849548\n",
      " 148.93283081 119.78868866]\n",
      "[0.3780624270439148]\n",
      "position:22\n",
      "[117.63928986 103.60414124 114.10016632 146.40579224 140.91734314\n",
      " 134.41036987 150.47354126 107.36390686 139.53996277 109.13111115\n",
      " 118.34849548 148.93283081 119.78868866]\n",
      "[0.3780624270439148]\n",
      "position:22\n",
      "[116.34912872 117.63928986 103.60414124 114.10016632 146.40579224\n",
      " 140.91734314 134.41036987 150.47354126 107.36390686 139.53996277\n",
      " 109.13111115 118.34849548 148.93283081 119.78868866]\n",
      "[0.3780624270439148]\n",
      "position:22\n",
      "[108.24028015 116.34912872 117.63928986 103.60414124 114.10016632\n",
      " 146.40579224 140.91734314 134.41036987 150.47354126 107.36390686\n",
      " 139.53996277 109.13111115 118.34849548 148.93283081 119.78868866]\n",
      "[0.3780624270439148]\n",
      "position:22\n",
      "[121.44078827 108.24028015 116.34912872 117.63928986 103.60414124\n",
      " 114.10016632 146.40579224 140.91734314 134.41036987 150.47354126\n",
      " 107.36390686 139.53996277 109.13111115 118.34849548 148.93283081\n",
      " 119.78868866]\n",
      "[0.3780624270439148]\n",
      "position:22\n",
      "[157.09008789 121.44078827 108.24028015 116.34912872 117.63928986\n",
      " 103.60414124 114.10016632 146.40579224 140.91734314 134.41036987\n",
      " 150.47354126 107.36390686 139.53996277 109.13111115 118.34849548\n",
      " 148.93283081 119.78868866]\n",
      "[0.3780624270439148]\n",
      "position:22\n",
      "[ 91.77738953 157.09008789 121.44078827 108.24028015 116.34912872\n",
      " 117.63928986 103.60414124 114.10016632 146.40579224 140.91734314\n",
      " 134.41036987 150.47354126 107.36390686 139.53996277 109.13111115\n",
      " 118.34849548 148.93283081 119.78868866]\n",
      "[0.28233563899993896]\n",
      "position:34\n",
      "[133.18841553  91.77738953 157.09008789 121.44078827 108.24028015\n",
      " 116.34912872 117.63928986 103.60414124 114.10016632 146.40579224\n",
      " 140.91734314 134.41036987 150.47354126 107.36390686 139.53996277\n",
      " 109.13111115 118.34849548 148.93283081 119.78868866]\n",
      "[0.28233563899993896]\n",
      "position:34\n",
      "[110.29457092 133.18841553  91.77738953 157.09008789 121.44078827\n",
      " 108.24028015 116.34912872 117.63928986 103.60414124 114.10016632\n",
      " 146.40579224 140.91734314 134.41036987 150.47354126 107.36390686\n",
      " 139.53996277 109.13111115 118.34849548 148.93283081 119.78868866]\n",
      "[0.28233563899993896]\n",
      "position:34\n",
      "[ 91.77738953 103.60414124 107.36390686 108.24028015 109.13111115\n",
      " 110.29457092 114.10016632 116.34912872 117.63928986 118.34849548\n",
      " 119.78868866 121.44078827 133.18841553 134.41036987 139.53996277\n",
      " 140.91734314 146.40579224 148.93283081 150.47354126 157.09008789]\n",
      "35\n",
      "Geringste Euklidische Distanz bei : 91.777390\n",
      "Geringste Kosinus Distanz bei: 0.282336\n",
      "Der Name der Datei ist: Copy of manuoci\n",
      "Zugriff erlaubt... Person identifiziert\n"
     ]
    },
    {
     "data": {
      "image/png": "[encoded data removed]",
      "text/plain": [
       "<Figure size 432x288 with 2 Axes>"
      ]
     },
     "metadata": {},
     "output_type": "display_data"
    },
    {
     "name": "stdout",
     "output_type": "stream",
     "text": [
      "-----------------------------------------\n",
      "Prozess beendet\n"
     ]
    }
   ],
   "source": [
    "employee_pictures = \"C:/Users/manum/Desktop/Confusion/\"\n",
    "img2= \"cropped.jpg\"\n",
    "employees = dict()\n",
    "epsilon = 0.35 # Schwellenwert der Kosinus Ähnlichkeit setzen\n",
    "alpha = 120 # Schwellenwert der Euklidischen Distanz setzen\n",
    "# Maximale Anzahl der Bilder definieren\n",
    "result_arraya = np.empty(([0, 1000]))\n",
    "result_arrayb = np.empty(([0, 1000]))\n",
    "result_array1 = np.empty((0, 1000))\n",
    "resultedarr1 = np.empty((0, 1000))\n",
    "i = 0\n",
    "for file in os.listdir(employee_pictures):\n",
    "    employee, extension = file.split(\".\")\n",
    "    # Den Namen aus dem Angestellten Ordner extrahieren \n",
    "    testimage = '%s' % (employee)\n",
    "    employees[employee] = vgg_face_descriptor.predict(preprocess_image(employee_pictures+'%s.jpg' % (employee)))[0,:]\n",
    "    img2_representation = vgg_face_descriptor.predict(preprocess_image((img2)))[0,:]\n",
    "    cosine_similarity = CosineSimilarity(employees[employee] , img2_representation)\n",
    "   # print ( cosine_similarity)\n",
    "    euclidean_distance = EuclideanDistance(employees[employee] , img2_representation)\n",
    "   # print ( euclidean_distance)\n",
    "    result = cosine_similarity\n",
    "    resulted = euclidean_distance\n",
    "    resulta = np.array([result, testimage], dtype=object)\n",
    "    resultedarr = np.array([resulted], dtype=float)\n",
    "    resultedarr1 = np.append([resultedarr], resultedarr1)\n",
    "    # Array beider Werte (Kosinus Ähnlichkeit und Label)\n",
    "    print (resultedarr1)\n",
    "    resultb = np.array([result], dtype=float)\n",
    "    result_arraya = np.append(result_arraya, [resulta])\n",
    "    result_arrayb = np.append(result_arrayb, [resultb])\n",
    "    result1 = euclidean_distance\n",
    "    result_array1 = np.append(result_array1, [result1])\n",
    "    mina = (np.where(result_arraya==result_arrayb.min()))\n",
    "    # Der kleinste Kosinus Ähnlichkeitswert  \n",
    "    print (result_arraya[mina])\n",
    "    print(\"position:%d\" %mina[0])\n",
    "    #print(mina[0])\n",
    "    level = ((list(mina[0])))\n",
    "print (np.sort(result_array1))\n",
    "print (level[0]+1)\n",
    "print (\"Geringste Euklidische Distanz bei : %f\" %min(resultedarr1))\n",
    "#print (\"Geringste Euklidische Distanz bei : %f\" %min(resultedarr1[level]))\n",
    "print(\"Geringste Kosinus Distanz bei: %f\" %min(result_arrayb))\n",
    "#print(result_arraya[mina[0]])\n",
    "print(\"Der Name der Datei ist: %s\" %result_arraya[(level[0]+1)])\n",
    "if ((min(result_arrayb) < epsilon) and (min(resultedarr1) < 1000)):\n",
    "        print(\"Zugriff erlaubt... Person identifiziert\")\n",
    "        f = plt.figure()\n",
    "        f.add_subplot(1,2, 1)\n",
    "        plt.imshow(image.load_img(employee_pictures+result_arraya[(level[0]+1)]+'.jpg' ))\n",
    "        plt.xticks([]); plt.yticks([])\n",
    "        f.add_subplot(1,2, 2)\n",
    "        plt.imshow(image.load_img((img2)))\n",
    "        plt.xticks([]); plt.yticks([])\n",
    "        plt.show(block=True)\n",
    "        print(\"-----------------------------------------\")\n",
    "        #break\n",
    "        verified = 1\n",
    "else:\n",
    "        verified = 0\n",
    "\n",
    "if (verified == 1):\n",
    "    print(\"Prozess beendet\")\n",
    "else:\n",
    "    print(\"Unbekannte Person\")\n"
   ]
  },
  {
   "cell_type": "markdown",
   "metadata": {},
   "source": [
    "## Referenzen\n",
    "* [Keras Framework](https://keras.io/)\n",
    "* [Deep Face Recognition Paper der Oxford Universität](https://www.robots.ox.ac.uk/~vgg/publications/2015/Parkhi15/parkhi15.pdf)"
   ]
  },
  {
   "cell_type": "code",
   "execution_count": null,
   "metadata": {},
   "outputs": [],
   "source": []
  },
  {
   "cell_type": "code",
   "execution_count": null,
   "metadata": {},
   "outputs": [],
   "source": []
  }
 ],
 "metadata": {
  "kernelspec": {
   "display_name": "Python 3",
   "language": "python",
   "name": "python3"
  },
  "language_info": {
   "codemirror_mode": {
    "name": "ipython",
    "version": 3
   },
   "file_extension": ".py",
   "mimetype": "text/x-python",
   "name": "python",
   "nbconvert_exporter": "python",
   "pygments_lexer": "ipython3",
   "version": "3.6.8"
  }
 },
 "nbformat": 4,
 "nbformat_minor": 2
}
