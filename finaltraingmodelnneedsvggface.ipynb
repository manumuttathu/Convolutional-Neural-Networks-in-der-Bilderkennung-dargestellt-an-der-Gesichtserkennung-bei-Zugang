{
 "cells": [
  {
   "cell_type": "markdown",
   "metadata": {},
   "source": [
    "## <center>Fine tuning der VGG16 Gewichte für die Klassifizierung von Angestellten und Nicht-Angestellten</center>"
   ]
  },
  {
   "cell_type": "markdown",
   "metadata": {},
   "source": [
    "Begonnen wird mit einer Funktion, um das Vorhandensein der erforderlichen Trainings- und Validierungsverzeichnisse zu überprüfen. Wenn keine Verzeichnisse vorhanden sind, werden sie automatisch erstellt und es wird ein Fehler ausgegeben, wenn keine Bilder für das Training verfügbar sind."
   ]
  },
  {
   "cell_type": "code",
   "execution_count": 30,
   "metadata": {},
   "outputs": [
    {
     "name": "stdout",
     "output_type": "stream",
     "text": [
      "Employ images in training directory is empty- You need to have images in this directory to start training\n"
     ]
    }
   ],
   "source": [
    "import os\n",
    "base_dir = 'c:/data/'\n",
    "if not os.path.exists(base_dir):\n",
    "    os.mkdir(base_dir)\n",
    "\n",
    "# Create directories for trainging an validation\n",
    "train_dir = os.path.join(base_dir,'train')\n",
    "if not os.path.exists(train_dir):\n",
    "    os.mkdir(train_dir)\n",
    "    \n",
    "validation_dir = os.path.join(base_dir,'validation')\n",
    "if not os.path.exists(validation_dir):\n",
    "    os.mkdir(validation_dir)\n",
    "\n",
    "train_employees_dir = os.path.join(train_dir,'employees')\n",
    "if not os.path.exists(train_employees_dir):\n",
    "    os.mkdir(train_employees_dir)\n",
    "\n",
    "train_nonemployees_dir = os.path.join(train_dir,'nonemployees')\n",
    "if not os.path.exists(train_nonemployees_dir):\n",
    "    os.mkdir(train_nonemployees_dir)\n",
    "\n",
    "validation_employees_dir = os.path.join(validation_dir,'employees')\n",
    "if not os.path.exists(validation_employees_dir):\n",
    "    os.mkdir(validation_employees_dir)\n",
    "\n",
    "validation_nonemployees_dir = os.path.join(validation_dir, 'nonemployees')\n",
    "if not os.path.exists(validation_nonemployees_dir):\n",
    "    os.mkdir(validation_nonemployees_dir)\n",
    "if not (os.listdir(train_employees_dir)or(os.listdir(train_nonemployees_dir))):\n",
    "        print(\"Employ images in training directory is empty- You need to have images in this directory to start training\")\n",
    "else:    \n",
    "    if not (os.listdir(validation_employees_dir)or(os.listdir(validation_nonemployees_dir))):\n",
    "        print(\"Employ images in validation directory is empty- You need to have images in this directory to start training\")\n",
    "        \n"
   ]
  },
  {
   "cell_type": "markdown",
   "metadata": {},
   "source": [
    "Hier werden die VGG16-Netzwerkarchitektur und Gewichte ohne Eingabeebene heruntergeladen. Bei der ersten Verwendung werden die Gewichte heruntergeladen und in ~/.keras/models/vggface gespeichert.\n",
    "Anschließend wird ein benutzerdefiniertes Modell (vgl. https://github.com/rcmalli/keras-vggface ), das die Anzahl der für das Training der Bilder erforderlichen Ebenen im Trainingsverzeichnis hinzufügt, erstellt.\n",
    "Einfrieren aller Schichten mit Ausnahme der letzten vier ((: - 4)"
   ]
  },
  {
   "cell_type": "code",
   "execution_count": 29,
   "metadata": {},
   "outputs": [],
   "source": [
    "from keras.applications.vgg16 import VGG16,preprocess_input\n",
    "from keras.preprocessing import image\n",
    "from keras.layers import Input, Flatten, Dense\n",
    "#from keras.models import Model\n",
    "import numpy as np\n",
    "from keras.preprocessing.image import ImageDataGenerator\n",
    "from keras import models\n",
    "#Lade das VGG-16 Netz\n",
    "model_vgg16_conv = VGG16( include_top=False)\n",
    "# Dimensionen des Eingabebilds\n",
    "img_width, img_height = 224, 224\n",
    "# Definiere die eigenen Dimensionen des Eingabebilds.\n",
    "input = Input(shape=(224,224,3),name = 'image_input')\n",
    "\n",
    "# Verwende das neue Modell \n",
    "output_vgg16_conv = model_vgg16_conv(input)\n",
    "# Nur die letzen 4 Schichten trainierbar machen\n",
    "for layer in model_vgg16_conv.layers[:-4]:\n",
    "    layer.trainable = False\n",
    "my_model = models.Sequential()\n",
    "my_model.add(model_vgg16_conv)   \n",
    "# Füge Fully-Connected Schichten hinzu \n",
    "x = Flatten(name='flatten')(output_vgg16_conv)\n",
    "x = Dense(4096, activation='relu', name='fc1')(x)\n",
    "x = Dense(4096, activation='relu', name='fc2')(x)\n",
    "x = Dense(2, activation='softmax', name='predictions')(x)\n",
    " \n",
    "my_model = Model(inputs=input, outputs=x)"
   ]
  },
  {
   "cell_type": "markdown",
   "metadata": {},
   "source": [
    "In diesem Abschnitt werden die für das Training und die Validierung erforderlichen Parameter definiert. Die ImageDataGenerator-Funktion von Keras wird zur Bildmanipulation und Normalisierung verwendet.\n",
    "Die Batchgröße für jede Iteration kann auch manuell bestimmt werden.\n",
    "Flow_from_directory stellt sicher, dass alle im Verzeichnis vorhandenen Bilder für das Training und die Validierung iterativ verwendet werden."
   ]
  },
  {
   "cell_type": "code",
   "execution_count": 27,
   "metadata": {},
   "outputs": [
    {
     "ename": "NameError",
     "evalue": "name 'train_batchsize' is not defined",
     "output_type": "error",
     "traceback": [
      "\u001b[1;31m---------------------------------------------------------------------------\u001b[0m",
      "\u001b[1;31mNameError\u001b[0m                                 Traceback (most recent call last)",
      "\u001b[1;32m<ipython-input-27-6548681eb85d>\u001b[0m in \u001b[0;36m<module>\u001b[1;34m\u001b[0m\n\u001b[0;32m     17\u001b[0m         \u001b[0mtrain_dir\u001b[0m\u001b[1;33m,\u001b[0m\u001b[1;33m\u001b[0m\u001b[1;33m\u001b[0m\u001b[0m\n\u001b[0;32m     18\u001b[0m         \u001b[0mtarget_size\u001b[0m\u001b[1;33m=\u001b[0m\u001b[1;33m(\u001b[0m\u001b[0mimg_width\u001b[0m\u001b[1;33m,\u001b[0m \u001b[0mimg_height\u001b[0m\u001b[1;33m)\u001b[0m\u001b[1;33m,\u001b[0m\u001b[1;33m\u001b[0m\u001b[1;33m\u001b[0m\u001b[0m\n\u001b[1;32m---> 19\u001b[1;33m         \u001b[0mbatch_size\u001b[0m\u001b[1;33m=\u001b[0m\u001b[0mtrain_batchsize\u001b[0m\u001b[1;33m,\u001b[0m\u001b[1;33m\u001b[0m\u001b[1;33m\u001b[0m\u001b[0m\n\u001b[0m\u001b[0;32m     20\u001b[0m         class_mode='categorical')\n\u001b[0;32m     21\u001b[0m \u001b[1;33m\u001b[0m\u001b[0m\n",
      "\u001b[1;31mNameError\u001b[0m: name 'train_batchsize' is not defined"
     ]
    }
   ],
   "source": [
    "# Den train_generator verwenden von der ImageDataGenerator Library von Keras\n",
    "train_datagen = ImageDataGenerator(\n",
    "      rescale=1./255,\n",
    "      rotation_range=20,\n",
    "      width_shift_range=0.2,\n",
    "      height_shift_range=0.2,\n",
    "      horizontal_flip=True,\n",
    "      fill_mode='nearest')\n",
    " \n",
    "validation_datagen = ImageDataGenerator(rescale=1./255)\n",
    " \n",
    "# Die Batchgröße gemäß der RAM anpassen\n",
    "train_batchsize = 5\n",
    "val_batchsize = 5\n",
    " \n",
    "train_generator = train_datagen.flow_from_directory(\n",
    "        train_dir,\n",
    "        target_size=(img_width, img_height),\n",
    "        batch_size=train_batchsize,\n",
    "        class_mode='categorical')\n",
    " \n",
    "validation_generator = validation_datagen.flow_from_directory(\n",
    "        validation_dir,\n",
    "        target_size=(img_width, img_height),\n",
    "        batch_size=val_batchsize,\n",
    "        class_mode='categorical',\n",
    "        shuffle=True)\n"
   ]
  },
  {
   "cell_type": "markdown",
   "metadata": {},
   "source": [
    "Hier wird die Funktion von Optimierern aus dem Keras Framework verwendet, um das neue Modell zu kompilieren. Es wurden verschiedene Versuche mit verschiedenen Arten von Optimierern unternommen, um die beste Ergebnisse zu erreichen. Das beste für die Datenmenge, die mit diesem Programm verwendet wurde, scheint der SGD mit der binären Kreuzentropie zu sein."
   ]
  },
  {
   "cell_type": "code",
   "execution_count": 57,
   "metadata": {},
   "outputs": [],
   "source": [
    "from keras import optimizers\n",
    "my_model.compile(optimizer = \"SGD\", loss ='binary_crossentropy', metrics = ['accuracy'])"
   ]
  },
  {
   "cell_type": "markdown",
   "metadata": {},
   "source": [
    "Nachdem das Modell erstellt wurde, wurde dieses an mehr als 300 Proben trainiert."
   ]
  },
  {
   "cell_type": "code",
   "execution_count": 58,
   "metadata": {},
   "outputs": [
    {
     "name": "stdout",
     "output_type": "stream",
     "text": [
      "Epoch 1/20\n",
      "25/25 [==============================] - 72s 3s/step - loss: 3.2344 - acc: 0.7840 - val_loss: 7.2136 - val_acc: 0.5500\n",
      "Epoch 2/20\n",
      "25/25 [==============================] - 69s 3s/step - loss: 2.8213 - acc: 0.8240 - val_loss: 6.4121 - val_acc: 0.6000\n",
      "Epoch 3/20\n",
      "25/25 [==============================] - 68s 3s/step - loss: 2.9496 - acc: 0.8160 - val_loss: 8.0151 - val_acc: 0.5000\n",
      "Epoch 4/20\n",
      "25/25 [==============================] - 67s 3s/step - loss: 2.8213 - acc: 0.8240 - val_loss: 7.5436 - val_acc: 0.5294\n",
      "Epoch 5/20\n",
      "25/25 [==============================] - 73s 3s/step - loss: 1.1257 - acc: 0.8160 - val_loss: 1.3896 - val_acc: 0.4000\n",
      "Epoch 6/20\n",
      "25/25 [==============================] - 69s 3s/step - loss: 0.3403 - acc: 0.8400 - val_loss: 0.8807 - val_acc: 0.4000\n",
      "Epoch 7/20\n",
      "25/25 [==============================] - 67s 3s/step - loss: 0.3573 - acc: 0.8240 - val_loss: 1.1981 - val_acc: 0.4706\n",
      "Epoch 8/20\n",
      "25/25 [==============================] - 68s 3s/step - loss: 0.2686 - acc: 0.8800 - val_loss: 0.4987 - val_acc: 0.7000\n",
      "Epoch 9/20\n",
      "25/25 [==============================] - 69s 3s/step - loss: 0.2600 - acc: 0.8720 - val_loss: 1.1371 - val_acc: 0.6000\n",
      "Epoch 10/20\n",
      "25/25 [==============================] - 68s 3s/step - loss: 0.1644 - acc: 0.9280 - val_loss: 1.3751 - val_acc: 0.5500\n",
      "Epoch 11/20\n",
      "25/25 [==============================] - 67s 3s/step - loss: 0.2303 - acc: 0.9040 - val_loss: 0.9027 - val_acc: 0.5882\n",
      "Epoch 12/20\n",
      "25/25 [==============================] - 68s 3s/step - loss: 0.1941 - acc: 0.9120 - val_loss: 1.3200 - val_acc: 0.4000\n",
      "Epoch 13/20\n",
      "25/25 [==============================] - 68s 3s/step - loss: 0.2078 - acc: 0.9040 - val_loss: 0.5884 - val_acc: 0.7000\n",
      "Epoch 14/20\n",
      "25/25 [==============================] - 67s 3s/step - loss: 0.1940 - acc: 0.9440 - val_loss: 0.9453 - val_acc: 0.4706\n",
      "Epoch 15/20\n",
      "25/25 [==============================] - 68s 3s/step - loss: 0.1579 - acc: 0.9360 - val_loss: 0.9232 - val_acc: 0.5500\n",
      "Epoch 16/20\n",
      "25/25 [==============================] - 68s 3s/step - loss: 0.1259 - acc: 0.9280 - val_loss: 0.4587 - val_acc: 0.8000\n",
      "Epoch 17/20\n",
      "25/25 [==============================] - 68s 3s/step - loss: 0.1458 - acc: 0.9280 - val_loss: 1.2093 - val_acc: 0.3000\n",
      "Epoch 18/20\n",
      "25/25 [==============================] - 67s 3s/step - loss: 0.1420 - acc: 0.9520 - val_loss: 1.8924 - val_acc: 0.4118\n",
      "Epoch 19/20\n",
      "25/25 [==============================] - 68s 3s/step - loss: 0.2131 - acc: 0.8800 - val_loss: 2.0940 - val_acc: 0.4500\n",
      "Epoch 20/20\n",
      "25/25 [==============================] - 68s 3s/step - loss: 0.1423 - acc: 0.9360 - val_loss: 0.9098 - val_acc: 0.6000\n"
     ]
    },
    {
     "data": {
      "text/plain": [
       "<keras.callbacks.History at 0x201cebcc710>"
      ]
     },
     "execution_count": 58,
     "metadata": {},
     "output_type": "execute_result"
    }
   ],
   "source": [
    "test_datagen = ImageDataGenerator(rescale=1. / 255)\n",
    "nb_train_samples = 385\n",
    "nb_validation_samples = 67\n",
    "epochs = 20\n",
    "batch_size = 15\n",
    "my_model.fit_generator(\n",
    "    train_generator,\n",
    "    steps_per_epoch=nb_train_samples // batch_size,\n",
    "    epochs=epochs,\n",
    "    validation_data=validation_generator,\n",
    "    validation_steps=nb_validation_samples // batch_size)"
   ]
  },
  {
   "cell_type": "markdown",
   "metadata": {},
   "source": [
    "Mit der Keras-Verlaufsfunktion kann die durchschnittliche Trainingsgenauigkeit angezeigt werden."
   ]
  },
  {
   "cell_type": "code",
   "execution_count": null,
   "metadata": {},
   "outputs": [],
   "source": [
    "acc = my_model.history.history['acc']\n",
    "val_acc = my_model.history.history['val_acc']\n",
    "loss = my_model.history.history['loss']\n",
    "val_loss = my_model.history.history['val_loss']\n",
    "print (acc) \n",
    "epochs = range(len(acc))"
   ]
  },
  {
   "cell_type": "markdown",
   "metadata": {},
   "source": [
    "Eine Visuallisierung der Trainings- und Validierungsgenauigkeit sowie der Verlust werden mit der Matplotlit-Funktion aufgezeichnet."
   ]
  },
  {
   "cell_type": "code",
   "execution_count": 60,
   "metadata": {},
   "outputs": [
    {
     "name": "stdout",
     "output_type": "stream",
     "text": [
      "[0.78400001168251032, 0.82400000810623164, 0.81600000798702244, 0.82400001049041749, 0.81600000858306887, 0.84000000953674314, 0.82400000751018521, 0.88000000715255733, 0.87200000643730169, 0.9280000042915344, 0.90400000572204586, 0.91200000524520874, 0.90400000572204586, 0.94400000333786016, 0.93600000381469728, 0.9280000042915344, 0.9280000042915344, 0.95200000286102293, 0.88000000715255733, 0.93600000381469728]\n"
     ]
    },
    {
     "data": {
      "image/png": "[encoded data removed]",
      "text/plain": [
       "<Figure size 432x288 with 1 Axes>"
      ]
     },
     "metadata": {
      "needs_background": "light"
     },
     "output_type": "display_data"
    },
    {
     "data": {
      "image/png": "[encoded data removed]",
      "text/plain": [
       "<Figure size 432x288 with 1 Axes>"
      ]
     },
     "metadata": {
      "needs_background": "light"
     },
     "output_type": "display_data"
    }
   ],
   "source": [
    "import matplotlib.pyplot as plt\n",
    "plt.plot(epochs, acc, 'b', label='Training acc')\n",
    "plt.plot(epochs, val_acc, 'r', label='Validation acc')\n",
    "plt.title('Training and validation accuracy')\n",
    "plt.legend()\n",
    " \n",
    "plt.figure()\n",
    " \n",
    "plt.plot(epochs, loss, 'b', label='Training loss')\n",
    "plt.plot(epochs, val_loss, 'r', label='Validation loss')\n",
    "plt.title('Training and validation loss')\n",
    "plt.legend()\n",
    " \n",
    "plt.show()"
   ]
  },
  {
   "cell_type": "markdown",
   "metadata": {},
   "source": [
    "Abschließend werden die Gewichte und die verwendete Architektur gespeichert."
   ]
  },
  {
   "cell_type": "code",
   "execution_count": 61,
   "metadata": {},
   "outputs": [
    {
     "name": "stdout",
     "output_type": "stream",
     "text": [
      "weight saved\n"
     ]
    }
   ],
   "source": [
    "my_model.save(\"manuweightsfile.h5\")\n",
    "print('Gewichte gespeichert')"
   ]
  },
  {
   "cell_type": "code",
   "execution_count": null,
   "metadata": {},
   "outputs": [],
   "source": []
  }
 ],
 "metadata": {
  "kernelspec": {
   "display_name": "Python 3",
   "language": "python",
   "name": "python3"
  },
  "language_info": {
   "codemirror_mode": {
    "name": "ipython",
    "version": 3
   },
   "file_extension": ".py",
   "mimetype": "text/x-python",
   "name": "python",
   "nbconvert_exporter": "python",
   "pygments_lexer": "ipython3",
   "version": "3.6.8"
  }
 },
 "nbformat": 4,
 "nbformat_minor": 2
}
